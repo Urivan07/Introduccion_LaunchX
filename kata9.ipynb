{
 "cells": [
  {
   "cell_type": "markdown",
   "metadata": {},
   "source": [
    "# Ejercicio: Uso de funciones en Python\n",
    "\n",
    "# Ejercicio 1: Trabajar con argumentos en funciones\n",
    "# Los argumentos requeridos en las funciones se utilizan cuando las funciones necesitan que esos argumentos funcionen correctamente. En este ejercicio, construirás un informe de combustible que requiere información de varias ubicaciones de combustible en todo el cohete.\n",
    "\n",
    "# Comienza por crear una función que necesite tres lecturas de combustible y devuelva un informe:\n",
    "# Ahora que hemos definido la función de informes, vamos a comprobarlo. Para esta misión, los tanques no están llenos:\n",
    "# En lugar de simplemente crear el informe, la función también está calculando el promedio. Mejora la legibilidad extrayendo el cálculo promedio de la función en una nueva función para que el promedio se pueda hacer de forma independiente:\n",
    "# Ahora actualiza la función de informes para llamando a la nueva función del promedio:\n"
   ]
  },
  {
   "cell_type": "code",
   "execution_count": 15,
   "metadata": {},
   "outputs": [
    {
     "name": "stdout",
     "output_type": "stream",
     "text": [
      "Reporte combustible:\n",
      "    Promedio tanques: 53.33 %\n",
      "    Tanque externo: 30 %\n",
      "    Tanque interno: 50 %\n",
      "    Tanque repuesto: 80 %\n",
      "    \n"
     ]
    }
   ],
   "source": [
    "def reporte_combustible(tanque_externo, tanque_interno, tanque_repuesto):\n",
    "    promedio_tanques = (tanque_externo + tanque_interno + tanque_repuesto)/3\n",
    "    return f\"\"\"Reporte combustible:\n",
    "    Promedio tanques: {\"{:.2f}\".format(promedio_tanques)} %\n",
    "    Tanque externo: {tanque_externo} %\n",
    "    Tanque interno: {tanque_interno} %\n",
    "    Tanque repuesto: {tanque_repuesto} %\n",
    "    \"\"\"\n",
    "    \n",
    "print(reporte_combustible(30, 50, 80))"
   ]
  },
  {
   "cell_type": "code",
   "execution_count": 16,
   "metadata": {},
   "outputs": [
    {
     "name": "stdout",
     "output_type": "stream",
     "text": [
      "Reporte combustible:\n",
      "    Promedio tanques: 53.33 %\n",
      "    Tanque externo: 30 %\n",
      "    Tanque interno: 50 %\n",
      "    Tanque repuesto: 80 %\n",
      "    \n"
     ]
    }
   ],
   "source": [
    "def reporte_combustible(tanque_externo, tanque_interno, tanque_repuesto):\n",
    "    return f\"\"\"Reporte combustible:\n",
    "    Promedio tanques: {\"{:.2f}\".format(promedio_combustible(tanque_externo,tanque_interno,tanque_repuesto))} %\n",
    "    Tanque externo: {tanque_externo} %\n",
    "    Tanque interno: {tanque_interno} %\n",
    "    Tanque repuesto: {tanque_repuesto} %\n",
    "    \"\"\"\n",
    "\n",
    "def promedio_combustible(*args):\n",
    "    total_combustible = sum(args)\n",
    "    return total_combustible/len(args)\n",
    "\n",
    "print(reporte_combustible(30, 50, 80))"
   ]
  },
  {
   "cell_type": "markdown",
   "metadata": {},
   "source": [
    "# Ejercicio 2: Trabajo con argumentos de palabra clave\n",
    "\n",
    "# Ejercicio : Trabajar con argumentos de palabras clave en funciones\n",
    "# En este ejercicio, construirás un informe de cohete que requiere varias piezas de información, como el tiempo hasta el destino, el combustible a la izquierda y el nombre del destino. Comienza por crear una función que creará un informe preciso de la misión:\n"
   ]
  },
  {
   "cell_type": "code",
   "execution_count": 17,
   "metadata": {},
   "outputs": [
    {
     "name": "stdout",
     "output_type": "stream",
     "text": [
      "Informe Cohete\n",
      "    Destino: Marte\n",
      "    Tiempo de viaje: 60 minutos\n",
      "    Total de combustible: 200 %\n",
      "    \n",
      "    \n"
     ]
    }
   ],
   "source": [
    "# Función con un informe preciso de la misión. Considera hora de prelanzamiento, tiempo de vuelo, destino, tanque externo y tanque interno\n",
    "def informe_cohete(prelanzamiento, tiempo_vuelo, destino, tanque_externo, tanque_interno):\n",
    "    return f\"\"\"Informe Cohete\n",
    "    Destino: {destino}\n",
    "    Tiempo de viaje: {prelanzamiento+tiempo_vuelo} minutos\n",
    "    Total de combustible: {tanque_externo + tanque_interno} %\n",
    "    \"\"\"\n",
    "\n",
    "print(informe_cohete(20, 40, 'Marte', 100, 100))\n"
   ]
  },
  {
   "cell_type": "markdown",
   "metadata": {},
   "source": [
    "# La función es problemática porque no se puede adaptar para minutos adicionales o tanques adicionales de combustible. Hazlo más flexible permitiendo cualquier número de pasos basados en el tiempo y cualquier número de tanques. En lugar de usar *args y **kwargs, aprovecha el hecho de que puedes usar cualquier nombre que desees. Asegurate que la función sea más legible mediante el uso de nombres de variables que están asociados con las entradas, como *minutes y **fuel_reservoirs:\n",
    "# Debido a que el combustible que queda en los tanques es específico de cada tanque, actualiza la función para usar el nombre de cada tanque en el informe:"
   ]
  },
  {
   "cell_type": "code",
   "execution_count": 27,
   "metadata": {},
   "outputs": [
    {
     "name": "stdout",
     "output_type": "stream",
     "text": [
      "Informe Cohete\n",
      "    Destino: Neptuno\n",
      "    Tiempo de viaje: 330 minutos\n",
      "    Total de combustible: 280 %\n",
      "    \n",
      "Informe Cohete\n",
      "    Destino: Neptuno\n",
      "    Tiempo de viaje: 330 minutos\n",
      "    Total de combustible: 280 %\n",
      "    \n",
      "        Tanque externo: 100 %\n",
      "        \n",
      "        Tanque interno: 100 %\n",
      "        \n",
      "        Tanque repuesto: 80 %\n",
      "        \n"
     ]
    }
   ],
   "source": [
    "def informe_cohete(destino, *tiempo_vuelo, **combustible):\n",
    "    return f\"\"\"Informe Cohete\n",
    "    Destino: {destino}\n",
    "    Tiempo de viaje: {sum(tiempo_vuelo)} minutos\n",
    "    Total de combustible: {sum(combustible.values())} %\n",
    "    \"\"\"\n",
    "\n",
    "print(informe_cohete('Neptuno', 20,300,10,tanque_externo=100, tanque_interno=100, tanque_repuesto=80))\n",
    "\n",
    "\n",
    "def informe_cohete(destino, *tiempo_vuelo, **combustible):\n",
    "    reporte_general = f\"\"\"Informe Cohete\n",
    "    Destino: {destino}\n",
    "    Tiempo de viaje: {sum(tiempo_vuelo)} minutos\n",
    "    Total de combustible: {sum(combustible.values())} %\n",
    "    \"\"\"\n",
    "    for tanque, porcentaje in combustible.items():\n",
    "        reporte_general += f\"\"\"\n",
    "        Tanque {tanque}: {porcentaje} %\n",
    "        \"\"\"\n",
    "    \n",
    "    return reporte_general\n",
    "\n",
    "print(informe_cohete('Neptuno', 20,300,10,externo=100, interno=100, repuesto=80))\n",
    "\n"
   ]
  }
 ],
 "metadata": {
  "interpreter": {
   "hash": "63fd5069d213b44bf678585dea6b12cceca9941eaf7f819626cde1f2670de90d"
  },
  "kernelspec": {
   "display_name": "Python 3.9.6 64-bit",
   "language": "python",
   "name": "python3"
  },
  "language_info": {
   "codemirror_mode": {
    "name": "ipython",
    "version": 3
   },
   "file_extension": ".py",
   "mimetype": "text/x-python",
   "name": "python",
   "nbconvert_exporter": "python",
   "pygments_lexer": "ipython3",
   "version": "3.9.6"
  },
  "orig_nbformat": 4
 },
 "nbformat": 4,
 "nbformat_minor": 2
}
