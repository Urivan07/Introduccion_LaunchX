{
 "cells": [
  {
   "cell_type": "markdown",
   "metadata": {},
   "source": [
    "# Añadir el código necesario para crear una variable que guarde la velocidad del asteroide.\n",
    "# Escribe una expresión de prueba para calcular si necesita una advertencia.\n",
    "# Agregue las instrucciones que se ejecutarán si la expresión de prueba es true o false.\n",
    "\n",
    "# Para este ejercicio, escribirás una lógica condicional que imprima una advertencia si un asteroide se acerca a la Tierra demasiado rápido. La velocidad del asteroide varía dependiendo de lo cerca que esté del sol, y cualquier velocidad superior a 25 kilómetros por segundo (km/s) merece una advertencia.\n",
    "# Un asteroide se acerca, y viaja a una velocidad de 49 km/s."
   ]
  },
  {
   "cell_type": "code",
   "execution_count": 16,
   "metadata": {},
   "outputs": [
    {
     "name": "stdout",
     "output_type": "stream",
     "text": [
      "Alerta - un asteroide se esta acercando demaciado rapido a la Tierra\n"
     ]
    }
   ],
   "source": [
    "velocidad_asteroide = 49 #km/s\n",
    "\n",
    "if velocidad_asteroide > 25:\n",
    "    print('Alerta - un asteroide se esta acercando demaciado rapido a la Tierra')\n",
    "else:\n",
    "    prin('tranquilo no pasa nada')"
   ]
  },
  {
   "cell_type": "markdown",
   "metadata": {},
   "source": [
    "# Si un asteroide entra en la atmósfera de la Tierra a una velocidad mayor o igual a 20 km/s, a veces produce un rayo de luz que se puede ver desde la Tierra. Escribe la lógica condicional que usa declaraciones if, else, y elif para alertar a las personas de todo el mundo que deben buscar un asteroide en el cielo. ¡Hay uno que se dirige a la tierra ahora a una velocidad de 19 km/s!\n",
    "\n",
    "# Agrega el código para crear una variable para un asteroide que viaja a 19 km/s\n",
    "# Escribe varias expresiones de prueba para determinar si puedes ver el rayo de luz desde la tierra\n",
    "# Agrega las instrucciones que se ejecutarán si las expresiones de prueba son True o False"
   ]
  },
  {
   "cell_type": "code",
   "execution_count": 19,
   "metadata": {},
   "outputs": [
    {
     "name": "stdout",
     "output_type": "stream",
     "text": [
      "un asteroide se dirige a la tierra ahora a una velocidad de 19 km/s, puedes ver el rayo de luz desde la tierra\n"
     ]
    }
   ],
   "source": [
    "velocidad_asteroide = 20 #km/s\n",
    "\n",
    "if velocidad_asteroide > 20:\n",
    "    print('buscar un asteroide en el cielo.')\n",
    "elif velocidad_asteroide == 20:\n",
    "    print('un asteroide se dirige a la tierra ahora a una velocidad de 19 km/s, puedes ver el rayo de luz desde la tierra')\n",
    "else:\n",
    "    print('un asteroide se dirige a la tierra a una velocidad menor de 19 km/s')\n"
   ]
  },
  {
   "cell_type": "markdown",
   "metadata": {},
   "source": [
    "# Los asteroides de menos de 25 metros en su dimensión más grande probablemente se quemarán a medida que entren en la atmósfera de la Tierra.\n",
    "\n",
    "# Si una pieza de un asteroide que es más grande que 25 metros pero más pequeña que 1000 metros golpeara la Tierra, causaría mucho daño.\n",
    "# También discutimos en el ejercicio anterior que:\n",
    "\n",
    "# La velocidad del asteroide varía en función de lo cerca que esté del sol, y cualquier velocidad superior a 25 kilómetros por segundo (km/s) merece una advertencia.\n",
    "# Si un asteroide entra en la atmósfera de la Tierra a una velocidad mayor o igual a 20 km/s, a veces produce un rayo de luz que se puede ver desde la Tierra.\n",
    "# Usando toda esta información, escribe un programa que emita la advertencia o información correcta a la gente de la Tierra, según la velocidad y el tamaño de un asteroide. Utiliza instrucciones if, else, y elif, así como los operadores and y or.\n",
    "\n",
    "# Agrega el código para crear nuevas variables para la velocidad y el tamaño del asteroide\n",
    "# Para probar el código, prueba con varias velocidades y tamaños\n",
    "# Escribe varias expresiones de prueba o combinaciones de expresiones de prueba para determinar qué mensaje se debe enviar a Tierra."
   ]
  },
  {
   "cell_type": "code",
   "execution_count": 23,
   "metadata": {},
   "outputs": [
    {
     "name": "stdout",
     "output_type": "stream",
     "text": [
      "rayito de luz\n",
      "un asteroide de 999 esta por golpear la tierra\n"
     ]
    }
   ],
   "source": [
    "velocidad_asteroide = 25 #km/s\n",
    "dimension_asteroide = 999 #m\n",
    "\n",
    "if velocidad_asteroide >= 20 or velocidad_asteroide == 19:\n",
    "    print('rayito de luz')\n",
    "    if velocidad_asteroide >= 25 and dimension_asteroide < 1000:\n",
    "        print('un asteroide de '+str(dimension_asteroide)+' esta por golpear la tierra')\n",
    "    else:\n",
    "        print('asteroide pequeno')\n",
    "else:\n",
    "    print('la velocidad del asteroide es '+str(velocidad_asteroide))\n",
    "\n"
   ]
  }
 ],
 "metadata": {
  "interpreter": {
   "hash": "63fd5069d213b44bf678585dea6b12cceca9941eaf7f819626cde1f2670de90d"
  },
  "kernelspec": {
   "display_name": "Python 3.9.6 64-bit",
   "language": "python",
   "name": "python3"
  },
  "language_info": {
   "codemirror_mode": {
    "name": "ipython",
    "version": 3
   },
   "file_extension": ".py",
   "mimetype": "text/x-python",
   "name": "python",
   "nbconvert_exporter": "python",
   "pygments_lexer": "ipython3",
   "version": "3.9.6"
  },
  "orig_nbformat": 4
 },
 "nbformat": 4,
 "nbformat_minor": 2
}
