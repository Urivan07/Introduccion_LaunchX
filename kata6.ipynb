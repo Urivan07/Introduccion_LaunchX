{
 "cells": [
  {
   "cell_type": "markdown",
   "metadata": {},
   "source": [
    "# Ejercicio1: Crear y usar listas de Python\n",
    "\n",
    "# Ejercicio: Usar listas para almacenar nombres de planetas\n",
    "# En primer lugar, crea una variable denominada planets. Agrega los ocho planetas (sin Plutón) a la lista. A continuación, muestra el número de planetas."
   ]
  },
  {
   "cell_type": "code",
   "execution_count": 1,
   "metadata": {},
   "outputs": [
    {
     "name": "stdout",
     "output_type": "stream",
     "text": [
      "Numero planetas:  8\n"
     ]
    }
   ],
   "source": [
    "planets = ['Mercurio', 'Venus', 'Tierra', 'Marte', 'Jupiter', 'Saturno', 'Urano', 'Neptuno']\n",
    "print('Numero planetas: ', len(planets))"
   ]
  },
  {
   "cell_type": "markdown",
   "metadata": {},
   "source": [
    "# Agrega a Plutón a la lista que creaste. Luego muestra tanto el número de planetas como el último planeta de la lista."
   ]
  },
  {
   "cell_type": "code",
   "execution_count": 2,
   "metadata": {},
   "outputs": [
    {
     "name": "stdout",
     "output_type": "stream",
     "text": [
      "Numero de planetas: 9, ultimo planeta registrado: Pluton\n"
     ]
    }
   ],
   "source": [
    "planets.append('Pluton')\n",
    "\n",
    "print('Numero de planetas: '+str(len(planets))+', ultimo planeta registrado: '+planets[-1])"
   ]
  },
  {
   "cell_type": "markdown",
   "metadata": {},
   "source": [
    "# Ejercicio 2: Trabajando con datos de una lista\n",
    "\n",
    "# Usar slices para recuperar partes de una lista\n",
    "# Solicita al usuario el nombre de un planeta\n",
    "# A continuación, agrega el código para solicitar al usuario un nombre. Debido a que las cadenas distinguen entre mayúsculas y minúsculas en Python, pídale al usuario que use una letra mayúscula para comenzar el nombre del planeta.\n",
    "\n",
    "# Encuentra el planeta en la lista\n",
    "# Para determinar qué planetas están más cerca que el que ingresó el usuario, debes encontrar dónde está el planeta en la lista. Puedes utilizar index para realizar esta operación. Agrega el código para encontrar el índice del planeta.\n",
    "\n",
    "# Mostrar planetas más cercanos al sol que el que el usuario ingresó\n",
    "# Con el índice determinado, ahora puedes agregar el código para mostrar los planetas más cercanos al sol.\n",
    "\n",
    "# Mostrar planetas más alejados del sol que el que el usuario ingresó\n",
    "# Puedes usar el mismo índice para mostrar planetas más alejados del sol. Sin embargo, recuerda que el índice inicial se incluye cuando usas un slice. Como resultado, tendrás que agregar 1 al valor. Agrega el código para mostrar los planetas más alejados del sol."
   ]
  },
  {
   "cell_type": "code",
   "execution_count": 13,
   "metadata": {},
   "outputs": [
    {
     "name": "stdout",
     "output_type": "stream",
     "text": [
      "indice planeta ingresado:  3\n",
      "planetas más cercanos al sol en base el planeta ingresado:  ['Mercurio', 'Venus', 'Tierra']\n",
      "planetas más alejados al sol en base el planeta ingresado:  ['Jupiter', 'Saturno', 'Neptuno']\n"
     ]
    }
   ],
   "source": [
    "# Lista de planetas\n",
    "planets = ['Mercurio', 'Venus', 'Tierra', 'Marte', 'Jupiter', 'Saturno', 'Neptuno']\n",
    "\n",
    "user_planet = input('Ingresa  el nombre de un planeta comenzando con la primer letra en mayuscula').capitalize()\n",
    "index_user_planet = planets.index(user_planet)\n",
    "\n",
    "print('indice planeta ingresado: ', index_user_planet)\n",
    "\n",
    "print('planetas más cercanos al sol en base el planeta ingresado: ', planets[0:index_user_planet])\n",
    "\n",
    "print('planetas más alejados al sol en base el planeta ingresado: ', planets[index_user_planet+1:])"
   ]
  }
 ],
 "metadata": {
  "interpreter": {
   "hash": "63fd5069d213b44bf678585dea6b12cceca9941eaf7f819626cde1f2670de90d"
  },
  "kernelspec": {
   "display_name": "Python 3.9.6 64-bit",
   "language": "python",
   "name": "python3"
  },
  "language_info": {
   "codemirror_mode": {
    "name": "ipython",
    "version": 3
   },
   "file_extension": ".py",
   "mimetype": "text/x-python",
   "name": "python",
   "nbconvert_exporter": "python",
   "pygments_lexer": "ipython3",
   "version": "3.9.6"
  },
  "orig_nbformat": 4
 },
 "nbformat": 4,
 "nbformat_minor": 2
}
