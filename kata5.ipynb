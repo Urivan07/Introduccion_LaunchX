{
 "cells": [
  {
   "cell_type": "markdown",
   "metadata": {},
   "source": [
    "# Ejercicio1 - Utilizar operadores aritméticos\n",
    "\n",
    "# Exploremos cómo podemos crear un programa que pueda calcular la distancia entre dos planetas. Comenzaremos usando dos distancias de planetas: Tierra (149.597.870 km) y Júpiter (778.547.200 km).\n",
    "\n",
    "# Realizar la operación\n",
    "# Con los valores obtenidos, es el momento de añadir el código para realizar la operación. Restarás el primer planeta del segundo para determinar la distancia en kilómetros. A continuación, puedes convertir la distancia del kilómetro en millas multiplicándola por 0.621."
   ]
  },
  {
   "cell_type": "code",
   "execution_count": 4,
   "metadata": {},
   "outputs": [
    {
     "name": "stdout",
     "output_type": "stream",
     "text": [
      "distancia 628.9493299999999\n",
      "distancia en millas 390.57753392999996\n"
     ]
    }
   ],
   "source": [
    "tierra  = 149.597870 #km\n",
    "jupiter = 778.547200 #km\n",
    "\n",
    "distancia = abs(jupiter - tierra)\n",
    "print('distancia km:', distancia)\n",
    "\n",
    "distancias_millas = distancia * 0.621\n",
    "print('distancia en millas:', distancias_millas)\n",
    "\n"
   ]
  },
  {
   "cell_type": "markdown",
   "metadata": {},
   "source": [
    "# Ejercicio 2: convierte cadenas en números y usa valores absolutos\n",
    "\n",
    "# Para crear nuestra aplicación, queremos leer la distancia del sol para dos planetas, y luego mostrar la distancia entre los planetas. Haremos esto usando input para leer los valores, int para convertir a entero y luego abs para convertir el resultado en su valor absoluto.\n",
    "\n",
    "# Realizar el cálculo y convertir a valor absoluto\n",
    "# Con los valores almacenados como números, ahora puedes agregar el código para realizar el cálculo, restando el primer planeta del segundo. Debido a que el segundo planeta podría ser un número mayor, usarás abs para convertirlo a un valor absoluto. También agregarás el código para mostrar el resultado en millas multiplicando la distancia del kilómetro por 0.621"
   ]
  },
  {
   "cell_type": "code",
   "execution_count": 15,
   "metadata": {},
   "outputs": [
    {
     "name": "stdout",
     "output_type": "stream",
     "text": [
      "distancia: 3716500000\n",
      "distancia en millas: 2307946500.0\n"
     ]
    }
   ],
   "source": [
    "planeta1 = int(input(\"¿Cuál es la distancia del sol del primer planeta en KM?\"))\n",
    "planeta2 = int(input(\"¿Cuál es la distancia del sol del segundo planeta en KM?\"))\n",
    "\n",
    "distancia = abs(planeta1 - planeta2)\n",
    "print('distancia km:', distancia)\n",
    "\n",
    "millas = distancia * 0.621\n",
    "print('distancia en millas:', millas)"
   ]
  }
 ],
 "metadata": {
  "interpreter": {
   "hash": "63fd5069d213b44bf678585dea6b12cceca9941eaf7f819626cde1f2670de90d"
  },
  "kernelspec": {
   "display_name": "Python 3.9.6 64-bit",
   "language": "python",
   "name": "python3"
  },
  "language_info": {
   "codemirror_mode": {
    "name": "ipython",
    "version": 3
   },
   "file_extension": ".py",
   "mimetype": "text/x-python",
   "name": "python",
   "nbconvert_exporter": "python",
   "pygments_lexer": "ipython3",
   "version": "3.9.6"
  },
  "orig_nbformat": 4
 },
 "nbformat": 4,
 "nbformat_minor": 2
}
