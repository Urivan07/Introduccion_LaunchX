{
 "cells": [
  {
   "cell_type": "markdown",
   "metadata": {},
   "source": [
    "# Ejercicio 1: Transformar cadenas\n",
    "\n",
    "# divide el texto en cada oración para trabajar con su contenido:\n",
    "# define algunas palabras clave para búsqueda que te ayudarán a determinar si una oración contiene un hecho.\n",
    "# Cre un bucle para imprimir solo datos sobre la Luna que estén relacionados con las palabras clave definidas anteriormente:\n",
    "# actualiza el bucle(ciclo) para cambiar C a Celsius:"
   ]
  },
  {
   "cell_type": "code",
   "execution_count": 23,
   "metadata": {},
   "outputs": [
    {
     "name": "stdout",
     "output_type": "stream",
     "text": [
      "The Moon is Earth's only satellite\n",
      "On average, the Moon moves 4cm away from the Earth every year\n",
      "This yearly drift is not significant enough to cause immediate effects on Earth\n",
      "The highest dayligh temperature of the Moon is 127 Celsius\n"
     ]
    }
   ],
   "source": [
    "text = \"\"\"Interesting facts about the Moon.The Moon is Earth's only satellite.There are several interesting facts about the Moon and how it affects life here on Earth.On average, the Moon moves 4cm away from the Earth every year.This yearly drift is not significant enough to cause immediate effects on Earth.The highest dayligh temperature of the Moon is 127 C.\"\"\"\n",
    "\n",
    "arr_text = text.split('.')\n",
    "words = ['satellite', 'drift', 'move', 'temperature']\n",
    "\n",
    "for sentence  in arr_text:\n",
    "    for word in words:\n",
    "        if word in sentence :\n",
    "            print(sentence.replace('C', 'Celsius'))"
   ]
  },
  {
   "cell_type": "markdown",
   "metadata": {},
   "source": [
    "# Ejercicio 2: Formateando Cadenas\n",
    "\n",
    "# En lugar de reemplazar las variables en una cadena larga como parte de un párrafo, utiliza la información para presentarla en un formato tabular. El resultado debería verse así:\n",
    "\n",
    "# Gravity Facts about Ganymede\n",
    "# -------------------------------------------------------------------------------\n",
    "# Planet Name: Mars\n",
    "# Gravity on Ganymede: 1.4300000000000002 m/s2\n",
    "\n",
    "# Primero, crea un título para el texto. Debido a que este texto trata sobre la gravedad en la Tierra y la Luna, úsalo para crear un título significativo. Utiliza las variables en lugar de escribir.\n",
    "# crea una plantilla de cadena multilínea para contener el resto de la información. En lugar de usar kilómetros, debes convertir la distancia a metros multiplicando por 1,000.\n",
    "# usa ambas variables para unir el título y los hechos.\n",
    "# usa información de una luna diferente para ver si la plantilla todavía funciona.\n",
    "# Datos muestra:\n",
    "\n",
    "# planeta = 'Marte '\n",
    "# gravedad  = 0.00143\n",
    "# nombre = 'Ganímedes'\n",
    "\n",
    "# La salida no muestra información sobre Marte. Todavía muestra información sobre la Luna. Esto sucede porque las cadenas f están ansiosas en su evaluación, por lo que las variables una vez asignadas no se pueden reasignar. Para evitar este problema, vuelva a hacer la plantilla para utilizar .format():\n",
    "# Debido a que .format() no permite expresiones, la gravedad en Ganímedes es incorrecta. Asegúrese de que la operación se realiza fuera de la plantilla de formato e imprima de nuevo para ver el resultado de trabajo."
   ]
  },
  {
   "cell_type": "code",
   "execution_count": 41,
   "metadata": {},
   "outputs": [
    {
     "name": "stdout",
     "output_type": "stream",
     "text": [
      "Garvity In The Moon\n",
      "--------------------------------------------------\n",
      "Planet Name: Earth\n",
      "Gravity on Moon: 1.6199999999999999 m/s2\n",
      "\n",
      "Garvity In The Ganímedes\n",
      "--------------------------------------------------\n",
      "Planet Name: Marte \n",
      "Gravity on Ganímedes: 1.4300000000000002 m/s2\n"
     ]
    }
   ],
   "source": [
    "# Datos con los que vas a trabajar\n",
    "name = \"Moon\"\n",
    "gravity = 0.00162 # in kms\n",
    "planet = \"Earth\"\n",
    "\n",
    "# Title\n",
    "title = f'Garvity in the {name}'\n",
    "\n",
    "#template\n",
    "template = f\"\"\"{'-'*50}\n",
    "Planet Name: {planet}\n",
    "Gravity on {name}: {gravity*1000} m/s2\"\"\"\n",
    "\n",
    "chain = f\"\"\"{title.title()}\n",
    "{template}\"\"\"\n",
    "\n",
    "print(chain)\n",
    "\n",
    "# Nuevos datos muestra\n",
    "new_planet = 'Marte '\n",
    "new_gravity  = 0.00143\n",
    "new_name = 'Ganímedes'\n",
    "\n",
    "new_template = \"\"\"\n",
    "Garvity In The {name}\n",
    "--------------------------------------------------\n",
    "Planet Name: {planet}\n",
    "Gravity on {name}: {gravity} m/s2\"\"\".format(planet=new_planet,name=new_name,gravity=new_gravity*1000)\n",
    "\n",
    "print(new_template)"
   ]
  }
 ],
 "metadata": {
  "interpreter": {
   "hash": "63fd5069d213b44bf678585dea6b12cceca9941eaf7f819626cde1f2670de90d"
  },
  "kernelspec": {
   "display_name": "Python 3.9.6 64-bit",
   "language": "python",
   "name": "python3"
  },
  "language_info": {
   "codemirror_mode": {
    "name": "ipython",
    "version": 3
   },
   "file_extension": ".py",
   "mimetype": "text/x-python",
   "name": "python",
   "nbconvert_exporter": "python",
   "pygments_lexer": "ipython3",
   "version": "3.9.6"
  },
  "orig_nbformat": 4
 },
 "nbformat": 4,
 "nbformat_minor": 2
}
